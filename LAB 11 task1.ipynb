{
 "cells": [
  {
   "cell_type": "code",
   "execution_count": 1,
   "id": "2f2ca11b-9c03-4dfa-9096-c972a76fee76",
   "metadata": {},
   "outputs": [
    {
     "ename": "SyntaxError",
     "evalue": "invalid syntax (2408924034.py, line 3)",
     "output_type": "error",
     "traceback": [
      "\u001b[1;36m  Cell \u001b[1;32mIn[1], line 3\u001b[1;36m\u001b[0m\n\u001b[1;33m    def bfs(graph, start, goal): \"\"\"Perform BFS to find the shortest path from start to goal.\"\"\" open_list = deque([start]) closed_list = []\u001b[0m\n\u001b[1;37m                                                                                                 ^\u001b[0m\n\u001b[1;31mSyntaxError\u001b[0m\u001b[1;31m:\u001b[0m invalid syntax\n"
     ]
    }
   ],
   "source": [
    "from collections import deque\n",
    "graph = { 'A': ['B', 'C', 'E'], 'B': ['D', 'E'], 'C': ['F', 'G'], 'E': ['F'], 'D': [], 'F': [], 'G': [] }\n",
    "def bfs(graph, start, goal): \"\"\"Perform BFS to find the shortest path from start to goal.\"\"\" open_list = deque([start]) closed_list = []\n",
    "parent = {start: None}\n",
    "\n",
    "while open_list:\n",
    "    node = open_list.popleft()\n",
    "    closed_list.append(node)\n",
    "\n",
    "    if node == goal:\n",
    "        path = []\n",
    "        while node is not None:\n",
    "            path.append(node)\n",
    "            node = parent[node]\n",
    "        path.reverse()\n",
    "        return path, closed_list\n",
    "\n",
    "    # Expand the node\n",
    "    for neighbor in graph[node]:\n",
    "        if neighbor not in closed_list and neighbor not in open_list:\n",
    "            open_list.append(neighbor)\n",
    "            parent[neighbor] = node\n",
    "\n",
    "return None, closed_list\n",
    " \n",
    "start_node = 'A' goal_node = 'G'\n",
    "path, closed_list = bfs(graph, start_node, goal_node)\n",
    "print(\"Path:\", path) print(\"Closed List:\", closed_list)\n",
    "\n",
    "Output: \n",
    " \n"
   ]
  },
  {
   "cell_type": "code",
   "execution_count": null,
   "id": "b367aa6c-5ce5-4802-ba85-245970469a26",
   "metadata": {},
   "outputs": [],
   "source": []
  },
  {
   "cell_type": "code",
   "execution_count": null,
   "id": "c123d198-527a-40da-8cee-3cf8dd800334",
   "metadata": {},
   "outputs": [],
   "source": []
  }
 ],
 "metadata": {
  "kernelspec": {
   "display_name": "Python 3 (ipykernel)",
   "language": "python",
   "name": "python3"
  },
  "language_info": {
   "codemirror_mode": {
    "name": "ipython",
    "version": 3
   },
   "file_extension": ".py",
   "mimetype": "text/x-python",
   "name": "python",
   "nbconvert_exporter": "python",
   "pygments_lexer": "ipython3",
   "version": "3.12.3"
  }
 },
 "nbformat": 4,
 "nbformat_minor": 5
}
