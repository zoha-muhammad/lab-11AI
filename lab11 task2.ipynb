{
 "cells": [
  {
   "cell_type": "code",
   "execution_count": 1,
   "id": "2b009b33-9f18-4ad6-927c-45dce1c7d409",
   "metadata": {},
   "outputs": [
    {
     "ename": "SyntaxError",
     "evalue": "invalid syntax (3331492639.py, line 2)",
     "output_type": "error",
     "traceback": [
      "\u001b[1;36m  Cell \u001b[1;32mIn[1], line 2\u001b[1;36m\u001b[0m\n\u001b[1;33m    Define the graph as an adjacency list\u001b[0m\n\u001b[1;37m           ^\u001b[0m\n\u001b[1;31mSyntaxError\u001b[0m\u001b[1;31m:\u001b[0m invalid syntax\n"
     ]
    }
   ],
   "source": [
    "from collections import deque\n",
    "Define the graph as an adjacency list\n",
    "graph = { 'A': ['B', 'C', 'E'], 'B': ['D', 'E'], 'C': ['F', 'G'], 'E': ['F'], 'D': [], 'F': [], 'G': [] }\n",
    "Breadth-First Search (BFS) Function\n",
    "def bfs(graph, start, goal): \"\"\"Perform BFS to find the shortest path from start to goal.\"\"\" # Initialize open and closed lists open_list = deque([start]) closed_list = []\n",
    "# Parent dictionary to track the path\n",
    "parent = {start: None}\n",
    "\n",
    "# Loop until the open list is empty\n",
    "while open_list:\n",
    "    # Dequeue a node\n",
    "    node = open_list.popleft()\n",
    "    closed_list.append(node)\n",
    "\n",
    "    # Check if the goal is found\n",
    "    if node == goal:\n",
    "        path = []\n",
    "        while node is not None:\n",
    "            path.append(node)\n",
    "            node = parent[node]\n",
    "        path.reverse()\n",
    "        return path, closed_list\n",
    "\n",
    "    # Expand the node\n",
    "    for neighbor in graph[node]:\n",
    "        if neighbor not in closed_list and neighbor not in open_list:\n",
    "            open_list.append(neighbor)\n",
    "            parent[neighbor] = node\n",
    "\n",
    "# If no path is found\n",
    "return None, closed_list\n",
    " \n",
    "Input\n",
    "start_node = input(\"Enter the initial state: \").strip() goal_node = input(\"Enter the final state: \").strip()\n",
    "Perform BFS\n",
    "path, closed_list = bfs(graph, start_node, goal_node)\n",
    "Display Results\n",
    "if path: print(\"Path:\", path) else: print(\"No path found.\") print(\"Closed List:\", closed_list)\n",
    "\n"
   ]
  },
  {
   "cell_type": "code",
   "execution_count": null,
   "id": "0680b6f5-2bea-4cfb-bee1-9683dde16a0e",
   "metadata": {},
   "outputs": [],
   "source": []
  }
 ],
 "metadata": {
  "kernelspec": {
   "display_name": "Python 3 (ipykernel)",
   "language": "python",
   "name": "python3"
  },
  "language_info": {
   "codemirror_mode": {
    "name": "ipython",
    "version": 3
   },
   "file_extension": ".py",
   "mimetype": "text/x-python",
   "name": "python",
   "nbconvert_exporter": "python",
   "pygments_lexer": "ipython3",
   "version": "3.12.3"
  }
 },
 "nbformat": 4,
 "nbformat_minor": 5
}
