{
 "cells": [
  {
   "cell_type": "code",
   "execution_count": 1,
   "id": "a2fc8151-e6cd-4c62-b9d2-8dc8951ee8eb",
   "metadata": {},
   "outputs": [
    {
     "ename": "SyntaxError",
     "evalue": "invalid syntax (29185903.py, line 3)",
     "output_type": "error",
     "traceback": [
      "\u001b[1;36m  Cell \u001b[1;32mIn[1], line 3\u001b[1;36m\u001b[0m\n\u001b[1;33m    def dfs(graph, start, goal): \"\"\"Perform DFS to find the path from start to goal.\"\"\" open_list = [start] closed_list = []\u001b[0m\n\u001b[1;37m                                                                                        ^\u001b[0m\n\u001b[1;31mSyntaxError\u001b[0m\u001b[1;31m:\u001b[0m invalid syntax\n"
     ]
    }
   ],
   "source": [
    "from collections import deque\n",
    "graph = { 'A': ['B', 'C', 'E'], 'B': ['E', 'D'], 'C': ['F', 'G'], 'E': ['F'], 'D': [], 'F': [], 'G': [] }\n",
    "def dfs(graph, start, goal): \"\"\"Perform DFS to find the path from start to goal.\"\"\" open_list = [start] closed_list = []\n",
    "parent = {start: None}\n",
    "\n",
    "while open_list:\n",
    "    node = open_list.pop()\n",
    "    closed_list.append(node)\n",
    "\n",
    "    if node == goal:\n",
    "        path = []\n",
    "        while node is not None:\n",
    "            path.append(node)\n",
    "            node = parent[node]\n",
    "        path.reverse()\n",
    "        return path, closed_list\n",
    "\n",
    "    for neighbor in reversed(graph[node]):\n",
    "        if neighbor not in closed_list and neighbor not in open_list:\n",
    "            open_list.append(neighbor)\n",
    "            parent[neighbor] = node\n",
    "\n",
    "return None, closed_list\n",
    " \n",
    "start_node = 'A' goal_node = 'G'\n",
    "path, closed_list = dfs(graph, start_node, goal_node)\n",
    "if path: print(\"Path:\", path) else: print(\"No path found.\") print(\"Closed List:\", closed_list)\n",
    "\n"
   ]
  },
  {
   "cell_type": "code",
   "execution_count": null,
   "id": "8733b1d1-9c82-47e9-b90f-b979a7d94a95",
   "metadata": {},
   "outputs": [],
   "source": []
  }
 ],
 "metadata": {
  "kernelspec": {
   "display_name": "Python 3 (ipykernel)",
   "language": "python",
   "name": "python3"
  },
  "language_info": {
   "codemirror_mode": {
    "name": "ipython",
    "version": 3
   },
   "file_extension": ".py",
   "mimetype": "text/x-python",
   "name": "python",
   "nbconvert_exporter": "python",
   "pygments_lexer": "ipython3",
   "version": "3.12.3"
  }
 },
 "nbformat": 4,
 "nbformat_minor": 5
}
