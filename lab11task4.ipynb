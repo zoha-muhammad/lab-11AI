{
 "cells": [
  {
   "cell_type": "code",
   "execution_count": null,
   "id": "3fc81e9c-176a-4fa9-a1f8-51ed005c3891",
   "metadata": {},
   "outputs": [],
   "source": []
  }
 ],
 "metadata": {
  "kernelspec": {
   "display_name": "",
   "name": ""
  },
  "language_info": {
   "name": ""
  }
 },
 "nbformat": 4,
 "nbformat_minor": 5
}
